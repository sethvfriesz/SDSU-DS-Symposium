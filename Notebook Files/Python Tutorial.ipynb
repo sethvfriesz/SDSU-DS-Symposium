{
 "cells": [
  {
   "cell_type": "markdown",
   "id": "380bd291",
   "metadata": {},
   "source": [
    "# Imports\n",
    "\n",
    "By importing modules, we can access code and functions that aren't available in base python. When we import a module, we are searching for the downloaded module and then binding it to a name in local scope.\n",
    "\n",
    "Examples: \n",
    "- import (package name) as (user given name)\n",
    "- from (package name) import (module name) as (user given name)"
   ]
  },
  {
   "cell_type": "code",
   "execution_count": 43,
   "id": "6bb312c5",
   "metadata": {},
   "outputs": [],
   "source": [
    "#import sys\n",
    "import math # Built-in module that extends the amount of mathematical functions available \n",
    "# import random \n",
    "import numpy as np # Numerical computing package"
   ]
  },
  {
   "cell_type": "markdown",
   "id": "1942e185",
   "metadata": {},
   "source": [
    "# How to print\n",
    "    We can print strings, numbers, and variables created by the user using the \"print\" statement"
   ]
  },
  {
   "cell_type": "code",
   "execution_count": 44,
   "id": "bf18bda8",
   "metadata": {},
   "outputs": [
    {
     "name": "stdout",
     "output_type": "stream",
     "text": [
      "Hello World!\n"
     ]
    }
   ],
   "source": [
    "print(\"Hello World!\")"
   ]
  },
  {
   "cell_type": "markdown",
   "id": "c9f47d74",
   "metadata": {},
   "source": [
    "# Variables\n",
    "- We can set variables to any specific python variables using a singlular \"=\" \n",
    "- When naming variables, the name needs to start with either a letter or an underscore\n",
    "- Variable names are case sensitive\n",
    "    "
   ]
  },
  {
   "cell_type": "markdown",
   "id": "bb971366",
   "metadata": {},
   "source": [
    "## Variables can take many data types\n",
    "   - Strings\n",
    "   - Integers\n",
    "   - Floats\n",
    "   - Booleans\n",
    "   - Lists\n",
    "   - Dataframes\n",
    "   - Arrays\n",
    "   - etc.\n",
    "   "
   ]
  },
  {
   "cell_type": "markdown",
   "id": "31b92df6",
   "metadata": {},
   "source": [
    "### Strings\n",
    "Strings in python can be assigned by using either single quotation marks, double quotation marks, or using three quotes for multiple lines."
   ]
  },
  {
   "cell_type": "code",
   "execution_count": 45,
   "id": "6d565070",
   "metadata": {},
   "outputs": [
    {
     "name": "stdout",
     "output_type": "stream",
     "text": [
      "Lorem ipsum dolor sit amet,\n",
      "consectetur adipiscing elit,\n",
      "sed do eiusmod tempor incididunt\n",
      "ut labore et dolore magna aliqua.\n"
     ]
    },
    {
     "data": {
      "text/plain": [
       "'SDSU Jackrabbits'"
      ]
     },
     "execution_count": 45,
     "metadata": {},
     "output_type": "execute_result"
    }
   ],
   "source": [
    "first_name = \"SDSU\"\n",
    "last_name = 'Jackrabbits'\n",
    "#full_name = \"SDSU Jackrabbits\"\n",
    "#full_name = first_name + last_name\n",
    "#full_name = first_name + ' ' + last_name\n",
    "a = \"\"\"Lorem ipsum dolor sit amet,\n",
    "consectetur adipiscing elit,\n",
    "sed do eiusmod tempor incididunt\n",
    "ut labore et dolore magna aliqua.\"\"\"\n",
    "print(a)\n",
    "full_name = f\"\"\"{first_name} {last_name}\"\"\" # Intro to F-Strings, will get into this more later\n",
    "full_name"
   ]
  },
  {
   "cell_type": "markdown",
   "id": "33569b02",
   "metadata": {},
   "source": [
    "### Slicing a string"
   ]
  },
  {
   "cell_type": "code",
   "execution_count": 46,
   "id": "d70d3099",
   "metadata": {},
   "outputs": [
    {
     "name": "stdout",
     "output_type": "stream",
     "text": [
      "1st character:\n",
      "J\n",
      "1st five characters:\n",
      "Jackr\n",
      "Every other character:\n",
      "Jcrbi\n"
     ]
    }
   ],
   "source": [
    "# With strings, we can choose a specific character in a string \n",
    "# using brackets at the end of the variable name\n",
    "# It is import to note that indexing in python starts at 0 rather than 1 \n",
    "# compared to R\n",
    "print(\"1st character:\");print(last_name[0])\n",
    "\n",
    "# When slicing a string, we can follow a start, stop, step method using these brackets.\n",
    "# Example: example_string[start:stop:step]\n",
    "print(\"1st five characters:\"); print(last_name[0:5]) #Choosing the first 5 values\n",
    "\n",
    "\n",
    "print(\"Every other character:\"); print(last_name[0:-1:2]) # Slicing a string such that we are starting at the first\n",
    "                                                          # variable, ending before the last, and skipping every \n",
    "                                                          # other variable in the string"
   ]
  },
  {
   "cell_type": "code",
   "execution_count": 47,
   "id": "fef42a4a",
   "metadata": {},
   "outputs": [
    {
     "name": "stdout",
     "output_type": "stream",
     "text": [
      "SDSU Bunnies\n",
      "['SDSU', 'NDSU', 'USD']\n",
      "seth friesz\n",
      "SETH FRIESZ\n"
     ]
    }
   ],
   "source": [
    "# If it is ever needed, we can replace any specific phrase within\n",
    "# a string with another phrase using the .replace() function\n",
    "name = \"SDSU Jackrabbits\"\n",
    "name = name.replace(\"Jackrabbits\", \"Bunnies\") \n",
    "print(name)\n",
    "\n",
    "# If we want to split a string composed of phrases, we can use \n",
    "# the .split() function to split a string into a list\n",
    "unis = \"SDSU, NDSU, USD\"\n",
    "print(unis.split(sep = \", \"))\n",
    "\n",
    "# To turn a string into all upper or lower case values, we can\n",
    "# use the .upper() and .lower() function .\n",
    "name = \"Seth Friesz\"\n",
    "print(name.lower())\n",
    "print(name.upper())"
   ]
  },
  {
   "cell_type": "markdown",
   "id": "55f9f9be",
   "metadata": {},
   "source": [
    "## Integers and Floats"
   ]
  },
  {
   "cell_type": "code",
   "execution_count": 48,
   "id": "4da11e27",
   "metadata": {},
   "outputs": [
    {
     "name": "stdout",
     "output_type": "stream",
     "text": [
      "1 is a <class 'int'>\n",
      "3.14159 is a <class 'float'>\n"
     ]
    }
   ],
   "source": [
    "number1 = 1 \n",
    "number2 = 3.14159 \n",
    "print(f\"\"\"{number1} is a {type(number1)}\"\"\"); print(f\"\"\"{number2} is a {type(number2)}\"\"\")"
   ]
  },
  {
   "cell_type": "markdown",
   "id": "08ce74f8",
   "metadata": {},
   "source": [
    "## We can rewrite variables at later points of the code"
   ]
  },
  {
   "cell_type": "code",
   "execution_count": 49,
   "id": "443e7224",
   "metadata": {},
   "outputs": [
    {
     "name": "stdout",
     "output_type": "stream",
     "text": [
      "Brookings\n",
      "Sioux Falls\n"
     ]
    }
   ],
   "source": [
    "variable1 = \"Brookings\"\n",
    "print(variable1)\n",
    "variable1 = \"Sioux Falls\"\n",
    "print(variable1)"
   ]
  },
  {
   "cell_type": "markdown",
   "id": "dbba9a8f",
   "metadata": {},
   "source": [
    "# Input statements\n",
    "We can use the built-in function input() to take user input. By default, the function will\n",
    "return as a string"
   ]
  },
  {
   "cell_type": "code",
   "execution_count": 50,
   "id": "0e5c4178",
   "metadata": {},
   "outputs": [
    {
     "name": "stdout",
     "output_type": "stream",
     "text": [
      "What is your name?  Seth\n",
      "Seth, what is your age? 18\n",
      "\n",
      "Name: Seth\n",
      "Age: 18\n",
      "\n"
     ]
    }
   ],
   "source": [
    "full_name = input(\n",
    "    prompt = \"What is your name?  \"\n",
    ")\n",
    "user_age = input(f\"\"\"{full_name}, what is your age? \"\"\")\n",
    "\n",
    "print(f\"\"\"\n",
    "Name: {full_name}\n",
    "Age: {user_age}\n",
    "\"\"\")"
   ]
  },
  {
   "cell_type": "markdown",
   "id": "c790e2f6",
   "metadata": {},
   "source": [
    "# More on printing\n",
    "- Using the print statement, we can separate different parts of the prompt\n",
    "- There is string formatting to infuse variables together dynamically to print a string\n",
    "- We can also use F-Strings to do the same thing"
   ]
  },
  {
   "cell_type": "code",
   "execution_count": 51,
   "id": "179022cf",
   "metadata": {},
   "outputs": [
    {
     "name": "stdout",
     "output_type": "stream",
     "text": [
      "January-18-1999\n",
      "Phone: iPhone \tGeneration: 14 \tPrice: $1100.00\n",
      "\n",
      "Phone: iPhone\n",
      "Generation: 14\n",
      "Price: $1099.99\n"
     ]
    }
   ],
   "source": [
    "# In the print() function, we can use the separator (sep) parameter to \n",
    "# to insert a manual separator \n",
    "print(\"January\",18, 1999, sep = \"-\")\n",
    "\n",
    "# We can format strings in three different ways, but I am only going to introduce two. \n",
    "# We can the use original %-formatting, were we use a % followed by what ever\n",
    "# variable type (s-string, d - integer, .2f - float rounded to the hundredth )\n",
    "print(\"Phone: %s \\tGeneration: %0d \\tPrice: $%.2f\" %(\"iPhone\", 14, 1099.9999999))\n",
    "\n",
    "# Another way to format strings (and to me, a cleaner method) is using formatted string\n",
    "# literals, or f-strings. When we have variables, we can insert variables into strings\n",
    "# using {} around the variable.\n",
    "phone = \"iPhone\"\n",
    "gen = 14\n",
    "price = 1099.99\n",
    "print(f\"\"\"\n",
    "Phone: {phone}\n",
    "Generation: {gen}\n",
    "Price: ${price}\"\"\")"
   ]
  },
  {
   "cell_type": "markdown",
   "id": "052a9801",
   "metadata": {},
   "source": [
    "# Mathematics in Python\n",
    "- We can perform many different mathematically operations using built-in and exported operations and functions"
   ]
  },
  {
   "cell_type": "code",
   "execution_count": 52,
   "id": "d32f9080",
   "metadata": {},
   "outputs": [
    {
     "name": "stdout",
     "output_type": "stream",
     "text": [
      "20 + 10 = 30\n",
      "20 - 10 = 10\n",
      "20 * 10 = 200\n",
      "20 / 10 = 2.0\n",
      "5 % 3 = 2\n",
      "2³ = 8\n",
      "How many times does 2 go into 5? 2\n"
     ]
    }
   ],
   "source": [
    "print(f\"\"\"20 + 10 = {20+10}\"\"\") #Addition\n",
    "print(f\"\"\"20 - 10 = {20-10}\"\"\") #Subtraction\n",
    "print(f\"\"\"20 * 10 = {20*10}\"\"\") #Multiplication\n",
    "print(f\"\"\"20 / 10 = {20/10}\"\"\") # Division\n",
    "print(f\"\"\"5 % 3 = {5%3}\"\"\") # Modulus\n",
    "print(f\"\"\"2\\u00b3 = {2**3}\"\"\") # Exponentiation\n",
    "print(f\"\"\"How many times does 2 go into 5? {5//2}\"\"\") # Floor division\n"
   ]
  },
  {
   "cell_type": "markdown",
   "id": "80d2e77d",
   "metadata": {},
   "source": [
    "### Plus-equal operator\n",
    "When we want to add a numerical value onto an existing variable, we can use the plus-equal operator\n",
    "to do just that. We can also use the same idea to subtract, multiply, and divide."
   ]
  },
  {
   "cell_type": "code",
   "execution_count": 53,
   "id": "71daa999",
   "metadata": {},
   "outputs": [
    {
     "name": "stdout",
     "output_type": "stream",
     "text": [
      "4\n",
      "6\n"
     ]
    }
   ],
   "source": [
    "_int = 4\n",
    "print(_int)\n",
    "_int += 2\n",
    "print(_int)"
   ]
  },
  {
   "cell_type": "markdown",
   "id": "2fbea734",
   "metadata": {},
   "source": [
    "## Other built-in math functions"
   ]
  },
  {
   "cell_type": "code",
   "execution_count": 1,
   "id": "4a6bea14",
   "metadata": {},
   "outputs": [
    {
     "name": "stdout",
     "output_type": "stream",
     "text": [
      "Absolute Value of -4: 4\n",
      "Three to the power of 4: 81\n",
      "Largest value between 7,8,9: 9\n",
      "Smallest value between 7,8,9: 7\n",
      "Round 3.14159265 to the third decimal: 3.142\n"
     ]
    }
   ],
   "source": [
    "# Absolute value function\n",
    "print(f\"\"\"Absolute Value of -4: {abs(-4)}\"\"\")\n",
    "# Raising a numerical value to the power of another numerical value\n",
    "print(f\"\"\"Three to the power of 4: {pow(3,4)}\"\"\")\n",
    "# Maximum between a list of values\n",
    "print(f\"\"\"Largest value between 7,8,9: {max(7,8,9)}\"\"\")\n",
    "# Minimumc between a list of values\n",
    "print(f\"\"\"Smallest value between 7,8,9: {min(7,8,9)}\"\"\")\n",
    "# Rounding floats to a specific decimal point\n",
    "print(f\"\"\"Round 3.14159265 to the third decimal: {round(3.14159265,3)}\"\"\")"
   ]
  },
  {
   "cell_type": "markdown",
   "id": "4fd1aacd",
   "metadata": {},
   "source": [
    "## Math Package functions\n",
    "- Documentation of the Math Package: https://docs.python.org/3/library/math.html"
   ]
  },
  {
   "cell_type": "code",
   "execution_count": 55,
   "id": "e8d0580e",
   "metadata": {},
   "outputs": [
    {
     "name": "stdout",
     "output_type": "stream",
     "text": [
      "Ceiling of pi: 4\n",
      "Floor of pi: 3\n",
      "e³: 20.085536923187668\n",
      "ln(e): 1.0\n"
     ]
    }
   ],
   "source": [
    "# Ceiling function (math)\n",
    "print(f\"\"\"Ceiling of pi: {math.ceil(math.pi)}\"\"\")\n",
    "# Floor function (math)\n",
    "print(f\"\"\"Floor of pi: {math.floor(math.pi)}\"\"\")\n",
    "# Exponential function (math)\n",
    "print(f\"\"\"e\\u00b3: {math.exp(3)}\"\"\")\n",
    "# Logrithimc function (math)\n",
    "print(f\"\"\"ln(e): {math.log(math.exp(1))}\"\"\")"
   ]
  },
  {
   "cell_type": "markdown",
   "id": "f3399f7f",
   "metadata": {},
   "source": [
    "# Conditionals, Logicals and If/Elif/Else statements\n",
    "### Conditional Statemets\n",
    "- Less than (<) and less than or equal to (<=)\n",
    "- Greater than (>) and greater than or equal to (>=)\n",
    "- Equal to (==)\n",
    "- Not equal to (!=)\n",
    "\n",
    "### Logical statements\n",
    "- And\n",
    "- Or\n",
    "- Not"
   ]
  },
  {
   "cell_type": "code",
   "execution_count": 56,
   "id": "db8f4658",
   "metadata": {},
   "outputs": [
    {
     "name": "stdout",
     "output_type": "stream",
     "text": [
      "a and b are equal\n"
     ]
    }
   ],
   "source": [
    "# We can interpret if/elif/else statements as \"If any of the specified conditions are met, then run \n",
    "# the code that corresponds to that conditions. If no conditions are met, run anything that wasn't \n",
    "# specified in the previous conditions\"\n",
    "a = 4\n",
    "b = 4\n",
    "if a < b:\n",
    "    print(\"a is less than b\")\n",
    "elif a == b:\n",
    "    print(\"a and b are equal\")\n",
    "else:\n",
    "    print(\"a is greater than b\")"
   ]
  },
  {
   "cell_type": "code",
   "execution_count": 57,
   "id": "a3182031",
   "metadata": {},
   "outputs": [
    {
     "name": "stdout",
     "output_type": "stream",
     "text": [
      "Please enter an age value: 18\n",
      "User is able to obtain a driver's license, but not a CDL\n"
     ]
    }
   ],
   "source": [
    "# We can use the \"and\" logical statement to combine conditional statements where both conditions \n",
    "# need to be met\n",
    "user_age = int(input(\"Please enter an age value: \"))\n",
    "if user_age >= 21:\n",
    "    print(\"User is able to obtain both a driver's license and a CDL\")\n",
    "elif (user_age >= 14) and (user_age < 21):\n",
    "    print(\"User is able to obtain a driver's license, but not a CDL\")\n",
    "else:\n",
    "    print(\"User can not obtain a driver's license nor a CDL\")"
   ]
  },
  {
   "cell_type": "code",
   "execution_count": 58,
   "id": "01842511",
   "metadata": {},
   "outputs": [
    {
     "name": "stdout",
     "output_type": "stream",
     "text": [
      "Both conditions are false\n"
     ]
    }
   ],
   "source": [
    "# We can use the \"or\" logical statement to combine statements where only one condition\n",
    "# needs to be met\n",
    "a = 2\n",
    "b = 33\n",
    "c = 500\n",
    "if (a > b) or (a > c):\n",
    "    print(\"At least one of the conditions is True\")\n",
    "else:\n",
    "    print(\"Both conditions are false\")"
   ]
  },
  {
   "cell_type": "code",
   "execution_count": 59,
   "id": "e6832f94",
   "metadata": {},
   "outputs": [
    {
     "name": "stdout",
     "output_type": "stream",
     "text": [
      "a is greater than b\n"
     ]
    }
   ],
   "source": [
    "# We can use the \"not\" logical statement to reverse the result of a conditional statement\n",
    "a = 21\n",
    "b = 20\n",
    "if not a > b:\n",
    "    print(\"a is NOT greater than b\")\n",
    "else:\n",
    "    print(\"a is greater than b\")"
   ]
  },
  {
   "cell_type": "markdown",
   "id": "2eeded5a",
   "metadata": {},
   "source": [
    "## Nested if/elif/else statement"
   ]
  },
  {
   "cell_type": "code",
   "execution_count": 60,
   "id": "1e0a3841",
   "metadata": {},
   "outputs": [
    {
     "name": "stdout",
     "output_type": "stream",
     "text": [
      "Choose a numerical value: 7\n",
      "The value you picked is greater than 5, but not 10\n"
     ]
    }
   ],
   "source": [
    "# Lastly, we can also nest if statements inside of if statements to created nested \n",
    "# if statements\n",
    "user_value = int(input(\"Choose a numerical value: \"))\n",
    "if user_value > 5:\n",
    "    if user_value > 10:\n",
    "        print(\"The value you picked is greater than 5 and 10\")\n",
    "    else: \n",
    "        print(\"The value you picked is greater than 5, but not 10\")\n",
    "else:\n",
    "    print(\"The value you picked is less than 5\")"
   ]
  },
  {
   "cell_type": "markdown",
   "id": "6f9d7dc7",
   "metadata": {},
   "source": [
    "# Lists\n",
    "- Used to store multiple items\n",
    "- Created by using square brackets"
   ]
  },
  {
   "cell_type": "code",
   "execution_count": 61,
   "id": "545f491f",
   "metadata": {},
   "outputs": [
    {
     "name": "stdout",
     "output_type": "stream",
     "text": [
      "Length of list: 4\n",
      "Second item: 3.14\n",
      "Last item: False\n",
      "First through 3rd items: [4, 3.14, 'SDSU']\n"
     ]
    }
   ],
   "source": [
    "list1 = [4, 3.14, \"SDSU\",False] # Creating a list\n",
    "print(f\"\"\"Length of list: {len(list1)}\"\"\") # Number of values in the list\n",
    "print(f\"\"\"Second item: {list1[1]}\"\"\") # Choosing the second item in list\n",
    "print(f\"\"\"Last item: {list1[-1]}\"\"\") # Choosing the last item in the list\n",
    "print(f\"\"\"First through 3rd items: {list1[0:3]}\"\"\")"
   ]
  },
  {
   "cell_type": "code",
   "execution_count": 62,
   "id": "a70ef6ad",
   "metadata": {},
   "outputs": [
    {
     "name": "stdout",
     "output_type": "stream",
     "text": [
      "Second item: 3.14\n",
      "Second item (Update): 4\n",
      "\n",
      "First through 3rd items: [4, 4, 'SDSU']\n",
      "First through 3rd items (Update): ['Jackrabbits', 6, 'Math is Fun']\n"
     ]
    }
   ],
   "source": [
    "# We can change certain values inside a list using the same indexing we used for strings\n",
    "print(f\"\"\"Second item: {list1[1]}\"\"\")\n",
    "list1[1] = 4 \n",
    "print(f\"\"\"Second item (Update): {list1[1]}\\n\"\"\")\n",
    "\n",
    "# Again, we can follow the [start:stop:skip] to further our knowledge of index slicing\n",
    "print(f\"\"\"First through 3rd items: {list1[0:3]}\"\"\")\n",
    "list1[0:3] = [\"Jackrabbits\", 6, \"Math is Fun\"] # Changing the first, second, and third values of the list\n",
    "print(f\"\"\"First through 3rd items (Update): {list1[0:3]}\"\"\")"
   ]
  },
  {
   "cell_type": "code",
   "execution_count": 78,
   "id": "b10b896b",
   "metadata": {},
   "outputs": [
    {
     "name": "stdout",
     "output_type": "stream",
     "text": [
      "['Vikings', 'Packers', 'Bears', 'Lions', '49ers', 'Cardinals', 'Rams', 'Seahawks']\n",
      "['Packers', 'Bears', 'Lions']\n",
      "Cardinals\n"
     ]
    }
   ],
   "source": [
    "# To combine multiple lists, all we need to do is \"add\" the two lists together\n",
    "NFC_north = [\"Vikings\", \"Packers\", \"Bears\", \"Lions\"]\n",
    "NFC_west = [\"49ers\", \"Cardinals\", \"Rams\", \"Seahawks\"]\n",
    "NFC_north_west = NFC_north + NFC_west\n",
    "print(NFC_north_west) \n",
    "\n",
    "# Removing a specific value out of a list is as simple as using the .remove() function\n",
    "# and then specifying what specific value you want removed\n",
    "NFC_north.remove(\"Vikings\") \n",
    "print(NFC_north)\n",
    "\n",
    "# We can also remove an item at a specific index from a list and return that value\n",
    "print(NFC_west.pop(1)) "
   ]
  },
  {
   "cell_type": "code",
   "execution_count": 79,
   "id": "58eb6d80",
   "metadata": {},
   "outputs": [
    {
     "name": "stdout",
     "output_type": "stream",
     "text": [
      "Minimum of list 1: 44\n",
      "Maximum of list 1: 121\n"
     ]
    }
   ],
   "source": [
    "list1 = [44,56,79,121]\n",
    "print(f\"\"\"Minimum of list 1: {min(list1)}\"\"\") # Finding the minimum value of a given list\n",
    "print(f\"\"\"Maximum of list 1: {max(list1)}\"\"\") # Find the maximum value of a given list"
   ]
  },
  {
   "cell_type": "markdown",
   "id": "402171aa",
   "metadata": {},
   "source": [
    "# Dictionaries\n",
    "- Stores data values in key:value pairs\n",
    "- Dictionaries do not allow duplicates\n",
    "- Written with curly brackets"
   ]
  },
  {
   "cell_type": "code",
   "execution_count": 80,
   "id": "6f386d21",
   "metadata": {},
   "outputs": [],
   "source": [
    "dorks = {\n",
    "    \"Jason\": \"A\",       #Creating a dictionary\n",
    "    \"Janean\": \"A\",\n",
    "    \"Clair\": \"C\",\n",
    "    \"Bryce\": \"D\"\n",
    "}"
   ]
  },
  {
   "cell_type": "code",
   "execution_count": 81,
   "id": "4ef8dc5b",
   "metadata": {},
   "outputs": [
    {
     "name": "stdout",
     "output_type": "stream",
     "text": [
      "Size of dictionary: 4\n",
      "Students (Keys) in the dictionary : dict_keys(['Jason', 'Janean', 'Clair', 'Bryce'])\n",
      "Grades (Values) in the dictionary: dict_values(['A', 'A', 'C', 'D'])\n",
      "Clair's grade: C\n"
     ]
    }
   ],
   "source": [
    "print(f\"\"\"Size of dictionary: {len(dorks)}\"\"\") # Size of dictionary\n",
    "print(f\"\"\"Students (Keys) in the dictionary : {dorks.keys()}\"\"\") # Keys of dictionary\n",
    "print(f\"\"\"Grades (Values) in the dictionary: {dorks.values()}\"\"\") # Values of dictionary\n",
    "print(f\"\"\"Clair's grade: {dorks[\"Clair\"]}\"\"\") # A specifc key's value"
   ]
  },
  {
   "cell_type": "code",
   "execution_count": 82,
   "id": "74ca025d",
   "metadata": {},
   "outputs": [
    {
     "name": "stdout",
     "output_type": "stream",
     "text": [
      "Dylan's grade: A\n"
     ]
    }
   ],
   "source": [
    "dorks[\"Dylan\"] = \"A\" # Creating a new dictionary key and it's value\n",
    "print(f\"\"\"Dylan's grade: {dorks[\"Dylan\"]}\"\"\") # Verifying the addition"
   ]
  },
  {
   "cell_type": "code",
   "execution_count": 83,
   "id": "9ad2d7cb",
   "metadata": {},
   "outputs": [
    {
     "name": "stdout",
     "output_type": "stream",
     "text": [
      "Bryce's Grade: B\n"
     ]
    }
   ],
   "source": [
    "dorks['Bryce'] = \"B\" # Changing a specific key's value\n",
    "print(f\"\"\"Bryce's Grade: {dorks['Bryce']}\"\"\") # Verifying the addition"
   ]
  },
  {
   "cell_type": "code",
   "execution_count": 84,
   "id": "da79b1f4",
   "metadata": {},
   "outputs": [
    {
     "ename": "KeyError",
     "evalue": "'Dylan'",
     "output_type": "error",
     "traceback": [
      "\u001b[0;31m---------------------------------------------------------------------------\u001b[0m",
      "\u001b[0;31mKeyError\u001b[0m                                  Traceback (most recent call last)",
      "Input \u001b[0;32mIn [84]\u001b[0m, in \u001b[0;36m<cell line: 2>\u001b[0;34m()\u001b[0m\n\u001b[1;32m      1\u001b[0m \u001b[38;5;28;01mdel\u001b[39;00m dorks[\u001b[38;5;124m\"\u001b[39m\u001b[38;5;124mDylan\u001b[39m\u001b[38;5;124m\"\u001b[39m] \u001b[38;5;66;03m# Deleting a key and its value from the dictionary\u001b[39;00m\n\u001b[0;32m----> 2\u001b[0m \u001b[38;5;28mprint\u001b[39m(\u001b[38;5;124mf\u001b[39m\u001b[38;5;124m\"\"\"\u001b[39m\u001b[38;5;124mDylan\u001b[39m\u001b[38;5;124m'\u001b[39m\u001b[38;5;124ms grade: \u001b[39m\u001b[38;5;132;01m{\u001b[39;00mdorks[\u001b[38;5;124m\"\u001b[39m\u001b[38;5;124mDylan\u001b[39m\u001b[38;5;124m\"\u001b[39m]\u001b[38;5;132;01m}\u001b[39;00m\u001b[38;5;124m\"\"\"\u001b[39m)\n",
      "\u001b[0;31mKeyError\u001b[0m: 'Dylan'"
     ]
    }
   ],
   "source": [
    "del dorks[\"Dylan\"] # Deleting a key and its value from the dictionary\n",
    "print(f\"\"\"Dylan's grade: {dorks[\"Dylan\"]}\"\"\") # Verifying the addition"
   ]
  },
  {
   "cell_type": "markdown",
   "id": "b5094567",
   "metadata": {},
   "source": [
    "# While loops\n",
    "- Executes a set of statements as long as a condition(s) holds true"
   ]
  },
  {
   "cell_type": "code",
   "execution_count": 85,
   "id": "eb968c0f",
   "metadata": {},
   "outputs": [
    {
     "name": "stdout",
     "output_type": "stream",
     "text": [
      "1 is less that 7\n",
      "2 is less that 7\n",
      "3 is less that 7\n",
      "4 is less that 7\n",
      "5 is less that 7\n",
      "6 is less that 7\n"
     ]
    }
   ],
   "source": [
    "i = 1\n",
    "while i < 7:     #Simple while loop\n",
    "    print(f\"\"\"{i} is less that 7\"\"\")\n",
    "    i +=1"
   ]
  },
  {
   "cell_type": "code",
   "execution_count": 86,
   "id": "30c58e1d",
   "metadata": {},
   "outputs": [
    {
     "name": "stdout",
     "output_type": "stream",
     "text": [
      "1 is less than 10 and not divisible by 5\n",
      "2 is less than 10 and not divisible by 5\n",
      "3 is less than 10 and not divisible by 5\n",
      "4 is less than 10 and not divisible by 5\n",
      "5 is divisible by 5\n"
     ]
    }
   ],
   "source": [
    "# We can utilize a \"break\" statement to terminate the execution of a loop. We typically\n",
    "# utilize the break statement after a condition is met in a if/else statement\n",
    "i = 1\n",
    "while i < 10:\n",
    "    if i / 5 == 1:\n",
    "        print(f\"\"\"{i} is divisible by 5\"\"\")\n",
    "        break\n",
    "    else:\n",
    "        print(f\"\"\"{i} is less than 10 and not divisible by 5\"\"\")\n",
    "        i += 1"
   ]
  },
  {
   "cell_type": "code",
   "execution_count": 87,
   "id": "c885f1ab",
   "metadata": {},
   "outputs": [
    {
     "name": "stdout",
     "output_type": "stream",
     "text": [
      "2 is less than 10 and not divisible by 5\n",
      "3 is less than 10 and not divisible by 5\n",
      "4 is less than 10 and not divisible by 5\n",
      "6 is less than 10 and not divisible by 5\n",
      "7 is less than 10 and not divisible by 5\n",
      "8 is less than 10 and not divisible by 5\n",
      "9 is less than 10 and not divisible by 5\n",
      "10 is less than 10 and not divisible by 5\n"
     ]
    }
   ],
   "source": [
    "# The continue statement is another loop control statement that skips the execution of the rest of\n",
    "# the program block after the continue statement and goes onto the next iteration of the loop\n",
    "i = 1\n",
    "while i < 10:\n",
    "    i += 1\n",
    "    if i / 5 == 1:\n",
    "        continue\n",
    "        print(f\"\"\"{i} is divisible by 5\"\"\")\n",
    "    else:\n",
    "        print(f\"\"\"{i} is less than 10 and not divisible by 5\"\"\")"
   ]
  },
  {
   "cell_type": "markdown",
   "id": "3fde8639",
   "metadata": {},
   "source": [
    "# For loops\n",
    "- Used to iterate over a sequence\n",
    "    - Could be a list, dictionary, string and more\n",
    "- We can execute a set of statements within a for loop"
   ]
  },
  {
   "cell_type": "markdown",
   "id": "7f48b4df",
   "metadata": {},
   "source": [
    "## Ranges\n",
    "- The range function returns a sequence of numbers \n",
    "    - Starts at zero (default)\n",
    "    - Increments by one (default)\n",
    "    - Stops at a specified number"
   ]
  },
  {
   "cell_type": "code",
   "execution_count": 88,
   "id": "716b4b04",
   "metadata": {},
   "outputs": [
    {
     "name": "stdout",
     "output_type": "stream",
     "text": [
      "[0, 1, 2, 3, 4, 5]\n",
      "[1, 2, 3, 4, 5]\n",
      "[0, 2, 4, 6, 8, 10, 12, 14, 16, 18]\n"
     ]
    }
   ],
   "source": [
    "# Print a list that starts at 0 and ends before the number 6\n",
    "print(list(range(6))) \n",
    "# Print a list that starts at 1 and ends before the number 6\n",
    "print(list(range(1,6)))\n",
    "# Print a list that starts at zero, ends before the number 20, and increments by 2\n",
    "print(list(range(0,20,2)))"
   ]
  },
  {
   "cell_type": "code",
   "execution_count": 89,
   "id": "f81d7e8b",
   "metadata": {},
   "outputs": [
    {
     "name": "stdout",
     "output_type": "stream",
     "text": [
      "0\n",
      "1\n",
      "2\n",
      "3\n",
      "4\n",
      "5\n",
      "6\n",
      "7\n",
      "8\n",
      "9\n"
     ]
    }
   ],
   "source": [
    "for x in range(0,10):\n",
    "    print(x)"
   ]
  },
  {
   "cell_type": "code",
   "execution_count": 90,
   "id": "a78564e9",
   "metadata": {},
   "outputs": [
    {
     "name": "stdout",
     "output_type": "stream",
     "text": [
      "0 is less than 5\n",
      "1 is less than 5\n",
      "2 is less than 5\n",
      "3 is less than 5\n",
      "4 is less than 5\n",
      "5 is greater than or equal to 5\n",
      "6 is greater than or equal to 5\n",
      "7 is greater than or equal to 5\n",
      "8 is greater than or equal to 5\n",
      "9 is greater than or equal to 5\n"
     ]
    }
   ],
   "source": [
    "for x in range(0,10):\n",
    "    if x < 5:\n",
    "        print(f\"\"\"{x} is less than 5\"\"\")\n",
    "    else:\n",
    "        print(f\"\"\"{x} is greater than or equal to 5\"\"\")"
   ]
  },
  {
   "cell_type": "code",
   "execution_count": 91,
   "id": "9c6351ab",
   "metadata": {},
   "outputs": [
    {
     "name": "stdout",
     "output_type": "stream",
     "text": [
      "0 value: Vikings\n",
      "1 value: Packers\n",
      "2 value: Bears\n",
      "3 value: Lions\n",
      "4 value: 49ers\n",
      "5 value: Cardinals\n",
      "6 value: Rams\n",
      "7 value: Seahawks\n",
      "\n",
      "\n",
      "\n",
      "\n",
      "\n",
      "\n",
      "0 value: Vikings\n",
      "1 value: Packers\n",
      "2 value: Bears\n",
      "3 value: Lions\n"
     ]
    }
   ],
   "source": [
    "for x, team in enumerate(NFC_north_west):\n",
    "    print(f\"\"\"{x} value: {team}\"\"\")\n",
    "print('\\n\\n\\n\\n\\n')    \n",
    "for x, team in enumerate(NFC_north_west):\n",
    "    print(f\"\"\"{x} value: {team}\"\"\")\n",
    "    if team == \"Lions\":\n",
    "        break"
   ]
  },
  {
   "cell_type": "code",
   "execution_count": 92,
   "id": "52c78ca2",
   "metadata": {},
   "outputs": [
    {
     "name": "stdout",
     "output_type": "stream",
     "text": [
      "\n",
      "    Key: Jason\n",
      "    Value: A\n",
      "\n",
      "    Key: Janean\n",
      "    Value: A\n",
      "\n",
      "    Key: Clair\n",
      "    Value: C\n",
      "\n",
      "    Key: Bryce\n",
      "    Value: B\n"
     ]
    }
   ],
   "source": [
    "for x in dorks.keys():\n",
    "    print(f\"\"\"\n",
    "    Key: {x}\n",
    "    Value: {dorks[x]}\"\"\")"
   ]
  },
  {
   "cell_type": "markdown",
   "id": "cc2ecd88",
   "metadata": {},
   "source": [
    "## List Comprehension\n",
    "- Offers shorter syntax when wanting to create a list from exisiting values from another list "
   ]
  },
  {
   "cell_type": "code",
   "execution_count": 93,
   "id": "47a1e4ac",
   "metadata": {},
   "outputs": [
    {
     "data": {
      "text/plain": [
       "[0, 1, 0, -1]"
      ]
     },
     "execution_count": 93,
     "metadata": {},
     "output_type": "execute_result"
    }
   ],
   "source": [
    "list1 = [0, (math.pi/2), (math.pi), ((3*math.pi)/2)]\n",
    "new_list = []\n",
    "for x in list1:\n",
    "    value = math.floor(math.sin(x))\n",
    "    new_list.append(value)\n",
    "new_list"
   ]
  },
  {
   "cell_type": "code",
   "execution_count": 94,
   "id": "e811cdd2",
   "metadata": {},
   "outputs": [
    {
     "data": {
      "text/plain": [
       "[0, 1, 0, -1]"
      ]
     },
     "execution_count": 94,
     "metadata": {},
     "output_type": "execute_result"
    }
   ],
   "source": [
    "list1 = [0, (math.pi/2), (math.pi), ((3*math.pi)/2)]\n",
    "new_list = [math.floor(math.sin(x)) for x in list1]\n",
    "new_list"
   ]
  },
  {
   "cell_type": "code",
   "execution_count": 95,
   "id": "7c9f5268",
   "metadata": {},
   "outputs": [
    {
     "data": {
      "text/plain": [
       "['o', 'u', 'a', 'o', 'a', 'a', 'e', 'i', 'e', 'i']"
      ]
     },
     "execution_count": 95,
     "metadata": {},
     "output_type": "execute_result"
    }
   ],
   "source": [
    "sentence = 'South Dakota State University'\n",
    "vowels = [i for i in sentence if i in 'aeiou']\n",
    "vowels"
   ]
  },
  {
   "cell_type": "code",
   "execution_count": 96,
   "id": "c2d2dac9",
   "metadata": {},
   "outputs": [
    {
     "data": {
      "text/plain": [
       "[1.99, 5.69, 12.99, 17.99, 32.39, 76.49]"
      ]
     },
     "execution_count": 96,
     "metadata": {},
     "output_type": "execute_result"
    }
   ],
   "source": [
    "prices = [1.99, 5.69, 12.99, 19.99, 35.99, 84.99]\n",
    "new_prices = [round(i - (i * .10),2) if i > 15 else i for i in prices]\n",
    "new_prices"
   ]
  },
  {
   "cell_type": "markdown",
   "id": "b630b53b",
   "metadata": {},
   "source": [
    "# Functions\n",
    "- A block of code with only runs when called upon\n",
    "- Pass data (parameters) into the function\n",
    "- Functions also can return data"
   ]
  },
  {
   "cell_type": "code",
   "execution_count": 97,
   "id": "992fb7e2",
   "metadata": {},
   "outputs": [
    {
     "name": "stdout",
     "output_type": "stream",
     "text": [
      "This is a simple function.\n"
     ]
    }
   ],
   "source": [
    "def my_fun():\n",
    "    print(\"This is a simple function.\")\n",
    "my_fun()"
   ]
  },
  {
   "cell_type": "code",
   "execution_count": 98,
   "id": "a09de0bb",
   "metadata": {},
   "outputs": [
    {
     "name": "stdout",
     "output_type": "stream",
     "text": [
      "2\n",
      "3\n",
      "6\n"
     ]
    }
   ],
   "source": [
    "def sum_function(a = 1, b = 1):\n",
    "    return a+b\n",
    "print(sum_function())\n",
    "print(sum_function(a = 2))\n",
    "print(sum_function(a = 2, b = 4))"
   ]
  },
  {
   "cell_type": "code",
   "execution_count": 99,
   "id": "3243c89a",
   "metadata": {},
   "outputs": [
    {
     "name": "stdout",
     "output_type": "stream",
     "text": [
      "Sum: 7\n",
      "Product: 12\n"
     ]
    }
   ],
   "source": [
    "def sum_prod(a = 1, b = 1):\n",
    "    return a + b, a*b\n",
    "_sum, _prod = sum_prod(a = 3, b = 4); print(f\"\"\"Sum: {_sum}\\nProduct: {_prod}\"\"\")"
   ]
  },
  {
   "cell_type": "markdown",
   "id": "9b1934a4",
   "metadata": {},
   "source": [
    "## Lambda functions\n",
    "- A lambda function can take any number of arguments, but can only have one expression."
   ]
  },
  {
   "cell_type": "code",
   "execution_count": 100,
   "id": "175b83ff",
   "metadata": {},
   "outputs": [
    {
     "data": {
      "text/plain": [
       "19"
      ]
     },
     "execution_count": 100,
     "metadata": {},
     "output_type": "execute_result"
    }
   ],
   "source": [
    "f = lambda x : x**2 + 2*x + 4\n",
    "f(3)"
   ]
  },
  {
   "cell_type": "code",
   "execution_count": 101,
   "id": "4d3877bb",
   "metadata": {},
   "outputs": [
    {
     "data": {
      "text/plain": [
       "17"
      ]
     },
     "execution_count": 101,
     "metadata": {},
     "output_type": "execute_result"
    }
   ],
   "source": [
    "g = lambda x, y: x**3 + y**2\n",
    "g(x = 2, y= 3)"
   ]
  },
  {
   "cell_type": "markdown",
   "id": "a87a6352",
   "metadata": {},
   "source": [
    "## Map\n",
    "- Returns the values after we apply a function to a given list"
   ]
  },
  {
   "cell_type": "code",
   "execution_count": 102,
   "id": "e7850ca2",
   "metadata": {},
   "outputs": [
    {
     "name": "stdout",
     "output_type": "stream",
     "text": [
      "[9, 4, 1, 0, 1, 4, 9]\n"
     ]
    }
   ],
   "source": [
    "f = lambda x: x**2\n",
    "list1 = [-3,-2,-1,0,1,2,3]\n",
    "print(list(map(f,list1)))\n",
    "\n",
    "def sum_fun(a, b):\n",
    "    return a + b\n",
    "result = list(map(sum_fun, [1,2,3,4], [2,3,4,5]))"
   ]
  },
  {
   "cell_type": "code",
   "execution_count": null,
   "id": "f833a3c5",
   "metadata": {},
   "outputs": [],
   "source": []
  }
 ],
 "metadata": {
  "kernelspec": {
   "display_name": "Python 3 (ipykernel)",
   "language": "python",
   "name": "python3"
  },
  "language_info": {
   "codemirror_mode": {
    "name": "ipython",
    "version": 3
   },
   "file_extension": ".py",
   "mimetype": "text/x-python",
   "name": "python",
   "nbconvert_exporter": "python",
   "pygments_lexer": "ipython3",
   "version": "3.9.12"
  }
 },
 "nbformat": 4,
 "nbformat_minor": 5
}

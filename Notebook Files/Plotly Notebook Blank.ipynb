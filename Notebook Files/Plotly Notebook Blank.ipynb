{
 "cells": [
  {
   "cell_type": "markdown",
   "id": "6a3e659f",
   "metadata": {},
   "source": [
    "# Imports"
   ]
  },
  {
   "cell_type": "markdown",
   "id": "db00c12e",
   "metadata": {},
   "source": [
    "# Plotly"
   ]
  },
  {
   "cell_type": "markdown",
   "id": "ac63d8c9",
   "metadata": {},
   "source": [
    "### Lineplots"
   ]
  },
  {
   "cell_type": "markdown",
   "id": "d088811b",
   "metadata": {},
   "source": [
    "### Scatterplots"
   ]
  },
  {
   "cell_type": "markdown",
   "id": "990d213d",
   "metadata": {},
   "source": [
    "### Bar Charts"
   ]
  },
  {
   "cell_type": "markdown",
   "id": "991bb3c4",
   "metadata": {},
   "source": [
    "### Pie Chart"
   ]
  },
  {
   "cell_type": "markdown",
   "id": "6a1b87ba",
   "metadata": {},
   "source": [
    "### Histogram"
   ]
  },
  {
   "cell_type": "markdown",
   "id": "70a21b10",
   "metadata": {},
   "source": [
    "### Heatmaps"
   ]
  },
  {
   "cell_type": "markdown",
   "id": "a71ecf9c",
   "metadata": {},
   "source": [
    "### 3D Scatterplots"
   ]
  },
  {
   "cell_type": "markdown",
   "id": "429c501a",
   "metadata": {},
   "source": [
    "### 3D Lineplots"
   ]
  },
  {
   "cell_type": "markdown",
   "id": "358e00a6",
   "metadata": {},
   "source": [
    "### Scatter Matrices"
   ]
  },
  {
   "cell_type": "code",
   "execution_count": null,
   "id": "9beb8deb",
   "metadata": {},
   "outputs": [],
   "source": []
  }
 ],
 "metadata": {
  "kernelspec": {
   "display_name": "Python 3 (ipykernel)",
   "language": "python",
   "name": "python3"
  },
  "language_info": {
   "codemirror_mode": {
    "name": "ipython",
    "version": 3
   },
   "file_extension": ".py",
   "mimetype": "text/x-python",
   "name": "python",
   "nbconvert_exporter": "python",
   "pygments_lexer": "ipython3",
   "version": "3.9.12"
  }
 },
 "nbformat": 4,
 "nbformat_minor": 5
}

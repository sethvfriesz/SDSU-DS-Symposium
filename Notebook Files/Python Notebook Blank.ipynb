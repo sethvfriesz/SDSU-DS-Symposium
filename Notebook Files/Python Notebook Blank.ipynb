{
 "cells": [
  {
   "cell_type": "markdown",
   "id": "97c818eb",
   "metadata": {},
   "source": [
    "# Imports"
   ]
  },
  {
   "cell_type": "markdown",
   "id": "3a5c67ca",
   "metadata": {},
   "source": [
    "# Printing"
   ]
  },
  {
   "cell_type": "markdown",
   "id": "7983fea3",
   "metadata": {},
   "source": [
    "# Variables"
   ]
  },
  {
   "cell_type": "markdown",
   "id": "1466dbaf",
   "metadata": {},
   "source": [
    "### Strings"
   ]
  },
  {
   "cell_type": "markdown",
   "id": "d4a64420",
   "metadata": {},
   "source": [
    "### Slicing strings"
   ]
  },
  {
   "cell_type": "markdown",
   "id": "38c92e30",
   "metadata": {},
   "source": [
    "### Integers and Floats"
   ]
  },
  {
   "cell_type": "markdown",
   "id": "88708cba",
   "metadata": {},
   "source": [
    "### Rewriting variables"
   ]
  },
  {
   "cell_type": "markdown",
   "id": "7b0fbdeb",
   "metadata": {},
   "source": [
    "# Input Statements"
   ]
  },
  {
   "cell_type": "markdown",
   "id": "1c8804cd",
   "metadata": {},
   "source": [
    "### Formatting strings"
   ]
  },
  {
   "cell_type": "markdown",
   "id": "97607348",
   "metadata": {},
   "source": [
    "# Mathematics in Python"
   ]
  },
  {
   "cell_type": "markdown",
   "id": "1bd76c3f",
   "metadata": {},
   "source": [
    "### Plus-Equal operator"
   ]
  },
  {
   "cell_type": "markdown",
   "id": "3ca7f6d0",
   "metadata": {},
   "source": [
    "### Other built-in functions"
   ]
  },
  {
   "cell_type": "markdown",
   "id": "ff3ebcec",
   "metadata": {},
   "source": [
    "### Math Package functions"
   ]
  },
  {
   "cell_type": "markdown",
   "id": "413aefaa",
   "metadata": {},
   "source": [
    "# Conditionals, Logicals, and If/Elif/Else Statements"
   ]
  },
  {
   "cell_type": "markdown",
   "id": "1a6496a9",
   "metadata": {},
   "source": [
    "### Nested if/elif/else statement"
   ]
  },
  {
   "cell_type": "markdown",
   "id": "da8d2874",
   "metadata": {},
   "source": [
    "# Lists"
   ]
  },
  {
   "cell_type": "markdown",
   "id": "7c7c47f1",
   "metadata": {},
   "source": [
    "# Dictionaries"
   ]
  },
  {
   "cell_type": "markdown",
   "id": "cdc9f512",
   "metadata": {},
   "source": [
    "# While loops"
   ]
  },
  {
   "cell_type": "markdown",
   "id": "843ba742",
   "metadata": {},
   "source": [
    "# For loops"
   ]
  },
  {
   "cell_type": "markdown",
   "id": "10671a7e",
   "metadata": {},
   "source": [
    "### Ranges"
   ]
  },
  {
   "cell_type": "markdown",
   "id": "484ebb42",
   "metadata": {},
   "source": [
    "# List Comprehension"
   ]
  },
  {
   "cell_type": "markdown",
   "id": "76ea0897",
   "metadata": {},
   "source": [
    "# Functions"
   ]
  },
  {
   "cell_type": "markdown",
   "id": "2815a895",
   "metadata": {},
   "source": [
    "### Lambda functions"
   ]
  },
  {
   "cell_type": "markdown",
   "id": "24241ddf",
   "metadata": {},
   "source": [
    "### Mapping"
   ]
  },
  {
   "cell_type": "code",
   "execution_count": null,
   "id": "ade228ab",
   "metadata": {},
   "outputs": [],
   "source": []
  }
 ],
 "metadata": {
  "kernelspec": {
   "display_name": "Python 3 (ipykernel)",
   "language": "python",
   "name": "python3"
  },
  "language_info": {
   "codemirror_mode": {
    "name": "ipython",
    "version": 3
   },
   "file_extension": ".py",
   "mimetype": "text/x-python",
   "name": "python",
   "nbconvert_exporter": "python",
   "pygments_lexer": "ipython3",
   "version": "3.9.12"
  }
 },
 "nbformat": 4,
 "nbformat_minor": 5
}

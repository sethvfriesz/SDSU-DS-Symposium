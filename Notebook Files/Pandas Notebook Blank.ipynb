{
 "cells": [
  {
   "cell_type": "markdown",
   "id": "3a2b1f14",
   "metadata": {},
   "source": [
    "# Imports"
   ]
  },
  {
   "cell_type": "markdown",
   "id": "ccde8645",
   "metadata": {},
   "source": [
    "# Series"
   ]
  },
  {
   "cell_type": "markdown",
   "id": "aabacae9",
   "metadata": {},
   "source": [
    "# Dataframes in Pandas"
   ]
  },
  {
   "cell_type": "markdown",
   "id": "6f0be770",
   "metadata": {},
   "source": [
    "### Creating Dataframes"
   ]
  },
  {
   "cell_type": "markdown",
   "id": "ddbdeddc",
   "metadata": {},
   "source": [
    "### Data Retrieval in Dataframes"
   ]
  },
  {
   "cell_type": "markdown",
   "id": "0c78024e",
   "metadata": {},
   "source": [
    "### Data Editing in Dataframes"
   ]
  },
  {
   "cell_type": "markdown",
   "id": "6519d0f0",
   "metadata": {},
   "source": [
    "### Importing Data"
   ]
  },
  {
   "cell_type": "markdown",
   "id": "8f67653b",
   "metadata": {},
   "source": [
    "### Conditional Selection"
   ]
  },
  {
   "cell_type": "markdown",
   "id": "4f94ec8e",
   "metadata": {},
   "source": [
    "### Math"
   ]
  },
  {
   "cell_type": "markdown",
   "id": "0ea0bd12",
   "metadata": {},
   "source": [
    "### Group Data"
   ]
  },
  {
   "cell_type": "markdown",
   "id": "b3add98d",
   "metadata": {},
   "source": [
    "### Concatenate, Merge, and Join Data"
   ]
  },
  {
   "cell_type": "markdown",
   "id": "dcb9710c",
   "metadata": {},
   "source": [
    "### Statistics"
   ]
  },
  {
   "cell_type": "markdown",
   "id": "bff3eecb",
   "metadata": {},
   "source": [
    "### Iteration"
   ]
  },
  {
   "cell_type": "markdown",
   "id": "a863bcb4",
   "metadata": {},
   "source": [
    "### Sorting"
   ]
  },
  {
   "cell_type": "markdown",
   "id": "b8b89cf8",
   "metadata": {},
   "source": [
    "### Handling Missing Data"
   ]
  }
 ],
 "metadata": {
  "kernelspec": {
   "display_name": "Python 3 (ipykernel)",
   "language": "python",
   "name": "python3"
  },
  "language_info": {
   "codemirror_mode": {
    "name": "ipython",
    "version": 3
   },
   "file_extension": ".py",
   "mimetype": "text/x-python",
   "name": "python",
   "nbconvert_exporter": "python",
   "pygments_lexer": "ipython3",
   "version": "3.9.12"
  }
 },
 "nbformat": 4,
 "nbformat_minor": 5
}
